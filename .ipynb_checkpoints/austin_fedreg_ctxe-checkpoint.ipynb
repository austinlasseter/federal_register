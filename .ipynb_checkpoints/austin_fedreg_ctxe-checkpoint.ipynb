{
 "cells": [
  {
   "cell_type": "markdown",
   "metadata": {},
   "source": [
    "# Test Project: Classify federal register abstracts"
   ]
  },
  {
   "cell_type": "markdown",
   "metadata": {},
   "source": [
    "## Step 0: Load libraries"
   ]
  },
  {
   "cell_type": "code",
   "execution_count": 1,
   "metadata": {},
   "outputs": [],
   "source": [
    "import pandas as pd\n",
    "import os\n",
    "import numpy as np\n",
    "import sys\n",
    "import pickle\n",
    "from collections import Counter\n",
    "import string\n",
    "import nltk\n",
    "from nltk.corpus import stopwords\n",
    "from nltk.stem.snowball import SnowballStemmer\n",
    "from nltk.tokenize import WhitespaceTokenizer\n",
    "from sklearn.model_selection import train_test_split, GridSearchCV\n",
    "from sklearn.linear_model import LogisticRegression\n",
    "from sklearn.naive_bayes import MultinomialNB\n",
    "from sklearn.feature_extraction.text import TfidfVectorizer"
   ]
  },
  {
   "cell_type": "markdown",
   "metadata": {},
   "source": [
    "## Step 1: Get data"
   ]
  },
  {
   "cell_type": "code",
   "execution_count": 2,
   "metadata": {},
   "outputs": [
    {
     "name": "stdout",
     "output_type": "stream",
     "text": [
      "C:\\Users\\alasseter\\Documents\\Projects\\federal_register\\data\\\n"
     ]
    }
   ],
   "source": [
    "dirname = os.getcwd() + \"\\\\data\\\\\"   \n",
    "print (dirname)"
   ]
  },
  {
   "cell_type": "code",
   "execution_count": 3,
   "metadata": {},
   "outputs": [],
   "source": [
    "# Read in the dataset of Federal Register abstracts\n",
    "df = pd.read_csv(dirname + 'fedreg10k.csv')"
   ]
  },
  {
   "cell_type": "code",
   "execution_count": 4,
   "metadata": {},
   "outputs": [
    {
     "name": "stdout",
     "output_type": "stream",
     "text": [
      "2977\n"
     ]
    },
    {
     "data": {
      "text/plain": [
       "(7023, 17)"
      ]
     },
     "execution_count": 4,
     "metadata": {},
     "output_type": "execute_result"
    }
   ],
   "source": [
    "# Remove rows with empty data\n",
    "print(df['abstract'].isnull().sum())\n",
    "df=df.dropna(subset=['abstract'], how='all')\n",
    "df.shape"
   ]
  },
  {
   "cell_type": "code",
   "execution_count": 5,
   "metadata": {},
   "outputs": [
    {
     "data": {
      "text/plain": [
       "Index(['document_number', 'publication_date', 'agency_id', 'agency',\n",
       "       'subagency', 'title', 'abstract', 'type', 'excerpts', 'raw_name',\n",
       "       'slug', 'url', 'html_url', 'pdf_url', 'public_inspection_pdf_url',\n",
       "       'json_url', 'parent_id'],\n",
       "      dtype='object')"
      ]
     },
     "execution_count": 5,
     "metadata": {},
     "output_type": "execute_result"
    }
   ],
   "source": [
    "# Explore variables\n",
    "df.columns"
   ]
  },
  {
   "cell_type": "code",
   "execution_count": 6,
   "metadata": {},
   "outputs": [
    {
     "data": {
      "text/plain": [
       "Notice           5167\n",
       "Rule             1140\n",
       "Proposed Rule     716\n",
       "Name: type, dtype: int64"
      ]
     },
     "execution_count": 6,
     "metadata": {},
     "output_type": "execute_result"
    }
   ],
   "source": [
    "# 'Type' might make a good target for the classifier.\n",
    "df['type'].value_counts()"
   ]
  },
  {
   "cell_type": "code",
   "execution_count": 7,
   "metadata": {},
   "outputs": [
    {
     "data": {
      "text/plain": [
       "Transportation Department               934\n",
       "Commerce Department                     852\n",
       "Health and Human Services Department    723\n",
       "Homeland Security Department            602\n",
       "Environmental Protection Agency         482\n",
       "Name: agency, dtype: int64"
      ]
     },
     "execution_count": 7,
     "metadata": {},
     "output_type": "execute_result"
    }
   ],
   "source": [
    "# What are the top agencies in the dataset? This could also be a good target for the classifier.\n",
    "df['agency'].value_counts().head()"
   ]
  },
  {
   "cell_type": "code",
   "execution_count": 8,
   "metadata": {},
   "outputs": [
    {
     "data": {
      "text/plain": [
       "True     5167\n",
       "False    1856\n",
       "Name: target, dtype: int64"
      ]
     },
     "execution_count": 8,
     "metadata": {},
     "output_type": "execute_result"
    }
   ],
   "source": [
    "# Create the target variable\n",
    "df['target'] = (df['type'] == 'Notice')\n",
    "df['target'].value_counts()"
   ]
  },
  {
   "cell_type": "code",
   "execution_count": 9,
   "metadata": {},
   "outputs": [
    {
     "data": {
      "text/plain": [
       "'We are superseding Airworthiness Directive (AD) 2017-11-03 for DG Flugzeugbau GmbH Model DG-500MB gliders that are equipped with a Solo 2625 02 engine modified with a fuel injection system following the instructions of Solo Kleinmoteren GmbH Technische Mitteilung 4600-3 and identified as Solo 2625 02i. This AD results from mandatory continuing airworthiness information (MCAI) issued by an aviation authority of another country to identify and correct an unsafe condition on an aviation product. The MCAI describes the unsafe condition as failure of the connecting rod bearing resulting from too much load on the rod bearings from the engine control unit. This AD adds a model to the applicability. We are issuing this AD to require actions to address the unsafe condition on these products.'"
      ]
     },
     "execution_count": 9,
     "metadata": {},
     "output_type": "execute_result"
    }
   ],
   "source": [
    "# Establish the text variable\n",
    "df['abstract'][0]"
   ]
  },
  {
   "cell_type": "code",
   "execution_count": 10,
   "metadata": {},
   "outputs": [],
   "source": [
    "# Remove all other variables\n",
    "df=df[['target', 'abstract']]"
   ]
  },
  {
   "cell_type": "markdown",
   "metadata": {},
   "source": [
    "## Step 2: Preprocess text data"
   ]
  },
  {
   "cell_type": "code",
   "execution_count": 11,
   "metadata": {},
   "outputs": [
    {
     "data": {
      "text/plain": [
       "0    We are superseding Airworthiness Directive AD ...\n",
       "1    The Commodity Futures Trading Commission Commi...\n",
       "2    We are extending the expiration date of Endocr...\n",
       "3    The Coast Guard has issued a temporary deviati...\n",
       "4    The Coast Guard has issued a temporary deviati...\n",
       "Name: abstract, dtype: object"
      ]
     },
     "execution_count": 11,
     "metadata": {},
     "output_type": "execute_result"
    }
   ],
   "source": [
    "# strip punctuation\n",
    "from utils.email_utils import stripPunctuation\n",
    "df['abstract'] = df['abstract'].apply(stripPunctuation)\n",
    "df['abstract'].head()"
   ]
  },
  {
   "cell_type": "code",
   "execution_count": 12,
   "metadata": {},
   "outputs": [
    {
     "data": {
      "text/plain": [
       "0    we are superseding airworthiness directive ad ...\n",
       "1    the commodity futures trading commission commi...\n",
       "2    we are extending the expiration date of endocr...\n",
       "3    the coast guard has issued a temporary deviati...\n",
       "4    the coast guard has issued a temporary deviati...\n",
       "Name: abstract, dtype: object"
      ]
     },
     "execution_count": 12,
     "metadata": {},
     "output_type": "execute_result"
    }
   ],
   "source": [
    "# convert to lower case\n",
    "from utils.email_utils import preprocess\n",
    "df['abstract'] = df['abstract'].apply(preprocess)\n",
    "df['abstract'].head()"
   ]
  },
  {
   "cell_type": "code",
   "execution_count": 13,
   "metadata": {},
   "outputs": [
    {
     "data": {
      "text/plain": [
       "0    [we, are, superseding, airworthiness, directiv...\n",
       "1    [the, commodity, futures, trading, commission,...\n",
       "2    [we, are, extending, the, expiration, date, of...\n",
       "3    [the, coast, guard, has, issued, a, temporary,...\n",
       "4    [the, coast, guard, has, issued, a, temporary,...\n",
       "Name: abstract, dtype: object"
      ]
     },
     "execution_count": 13,
     "metadata": {},
     "output_type": "execute_result"
    }
   ],
   "source": [
    "# examine the tokenizer that we'll use in the next step (note: this is just exploratory and does not modify the data)\n",
    "from utils.email_utils import myTokenizer\n",
    "df['abstract'].apply(myTokenizer.tokenize).head()"
   ]
  },
  {
   "cell_type": "code",
   "execution_count": 14,
   "metadata": {},
   "outputs": [
    {
     "data": {
      "text/plain": [
       "0    124\n",
       "1    158\n",
       "2     70\n",
       "3    101\n",
       "4     63\n",
       "Name: abstract, dtype: int64"
      ]
     },
     "execution_count": 14,
     "metadata": {},
     "output_type": "execute_result"
    }
   ],
   "source": [
    "# Count the tokens (note: this is just exploratory and does not modify the data)\n",
    "from utils.email_utils import countTokens\n",
    "df['abstract'].apply(countTokens).head()"
   ]
  },
  {
   "cell_type": "markdown",
   "metadata": {},
   "source": [
    "## Step 3: Split and Vectorize the data"
   ]
  },
  {
   "cell_type": "code",
   "execution_count": 15,
   "metadata": {},
   "outputs": [],
   "source": [
    "# Establish our X and y\n",
    "X = df['abstract']\n",
    "y = df['target']"
   ]
  },
  {
   "cell_type": "code",
   "execution_count": 16,
   "metadata": {},
   "outputs": [],
   "source": [
    "# Let's set aside 33% of our data for testing.\n",
    "X_train, X_test, y_train, y_test = train_test_split(X, y, test_size=0.33)"
   ]
  },
  {
   "cell_type": "code",
   "execution_count": 17,
   "metadata": {},
   "outputs": [],
   "source": [
    "# Instantiate a TFidf vectorizer. Note the tokenizer.\n",
    "vectorizer = TfidfVectorizer(sublinear_tf=True, encoding='utf-8', \n",
    "                             max_df=0.5, tokenizer=myTokenizer.tokenize)"
   ]
  },
  {
   "cell_type": "code",
   "execution_count": 18,
   "metadata": {},
   "outputs": [],
   "source": [
    "# Train the vectorizer\n",
    "tvec_train = vectorizer.fit_transform(X_train)"
   ]
  },
  {
   "cell_type": "code",
   "execution_count": 19,
   "metadata": {},
   "outputs": [
    {
     "name": "stdout",
     "output_type": "stream",
     "text": [
      "First 5 features: ['0', '00', '000', '0003', '0007']\n",
      "Last 5 features: ['zoning', 'zontivity', 'zoxamide', 'zstiffeners', 'zurampic']\n"
     ]
    }
   ],
   "source": [
    "# Save feature names in a separate list for later use\n",
    "feature_names = vectorizer.get_feature_names()\n",
    "print('First 5 features:', feature_names[:5])\n",
    "print('Last 5 features:', feature_names[-5:])"
   ]
  },
  {
   "cell_type": "markdown",
   "metadata": {},
   "source": [
    "## Step 4: Instantiate, Tune and Train a Logistic Regression Classifier"
   ]
  },
  {
   "cell_type": "code",
   "execution_count": 20,
   "metadata": {},
   "outputs": [],
   "source": [
    "# Set up the parameters for the gridsearch.\n",
    "gs_params = {\n",
    "    'penalty':['l1','l2'],\n",
    "    'solver':['liblinear'],\n",
    "    'C':np.logspace(-5,0,100)\n",
    "}"
   ]
  },
  {
   "cell_type": "code",
   "execution_count": 21,
   "metadata": {},
   "outputs": [],
   "source": [
    "# Instantiate the gridsearch\n",
    "lr_gridsearch = GridSearchCV(LogisticRegression(), param_grid=gs_params, cv=5, verbose=1)"
   ]
  },
  {
   "cell_type": "code",
   "execution_count": 22,
   "metadata": {},
   "outputs": [
    {
     "name": "stdout",
     "output_type": "stream",
     "text": [
      "Fitting 5 folds for each of 200 candidates, totalling 1000 fits\n"
     ]
    },
    {
     "name": "stderr",
     "output_type": "stream",
     "text": [
      "[Parallel(n_jobs=1)]: Done 1000 out of 1000 | elapsed:   19.0s finished\n"
     ]
    },
    {
     "data": {
      "text/plain": [
       "GridSearchCV(cv=5, error_score='raise',\n",
       "       estimator=LogisticRegression(C=1.0, class_weight=None, dual=False, fit_intercept=True,\n",
       "          intercept_scaling=1, max_iter=100, multi_class='ovr', n_jobs=1,\n",
       "          penalty='l2', random_state=None, solver='liblinear', tol=0.0001,\n",
       "          verbose=0, warm_start=False),\n",
       "       fit_params=None, iid=True, n_jobs=1,\n",
       "       param_grid={'penalty': ['l1', 'l2'], 'solver': ['liblinear'], 'C': array([1.00000e-05, 1.12332e-05, ..., 8.90215e-01, 1.00000e+00])},\n",
       "       pre_dispatch='2*n_jobs', refit=True, return_train_score='warn',\n",
       "       scoring=None, verbose=1)"
      ]
     },
     "execution_count": 22,
     "metadata": {},
     "output_type": "execute_result"
    }
   ],
   "source": [
    "# Fit the instantiated gridsearch to the vectorized training data\n",
    "lr_gridsearch.fit(tvec_train, y_train)"
   ]
  },
  {
   "cell_type": "code",
   "execution_count": 23,
   "metadata": {},
   "outputs": [
    {
     "name": "stdout",
     "output_type": "stream",
     "text": [
      "{'C': 1.0, 'penalty': 'l2', 'solver': 'liblinear'}\n",
      "0.9509032943676939\n"
     ]
    }
   ],
   "source": [
    "# Display the best parameters and the score associated with them\n",
    "print(lr_gridsearch.best_params_)\n",
    "print(lr_gridsearch.best_score_)"
   ]
  },
  {
   "cell_type": "code",
   "execution_count": 24,
   "metadata": {},
   "outputs": [
    {
     "name": "stdout",
     "output_type": "stream",
     "text": [
      "LogisticRegression(C=1.0, class_weight=None, dual=False, fit_intercept=True,\n",
      "          intercept_scaling=1, max_iter=100, multi_class='ovr', n_jobs=1,\n",
      "          penalty='l2', random_state=None, solver='liblinear', tol=0.0001,\n",
      "          verbose=0, warm_start=False)\n"
     ]
    }
   ],
   "source": [
    "# Instantiate model using those parameters\n",
    "model_lr = lr_gridsearch.best_estimator_\n",
    "print(model_lr)"
   ]
  },
  {
   "cell_type": "markdown",
   "metadata": {},
   "source": [
    "## Step 5: Classify the test data"
   ]
  },
  {
   "cell_type": "code",
   "execution_count": 25,
   "metadata": {},
   "outputs": [],
   "source": [
    "#Create another matrix of tfidf scores for the documents in the test set\n",
    "tvec_test = vectorizer.transform(X_test)"
   ]
  },
  {
   "cell_type": "code",
   "execution_count": 26,
   "metadata": {},
   "outputs": [
    {
     "data": {
      "text/plain": [
       "array([ True,  True,  True, ...,  True,  True,  True])"
      ]
     },
     "execution_count": 26,
     "metadata": {},
     "output_type": "execute_result"
    }
   ],
   "source": [
    "# Predict on the test data\n",
    "predictions=model_lr.predict(tvec_test)\n",
    "predictions"
   ]
  },
  {
   "cell_type": "code",
   "execution_count": 27,
   "metadata": {},
   "outputs": [
    {
     "data": {
      "text/plain": [
       "array([0.85331651, 0.96765312, 0.92181193, ..., 0.98387806, 0.88554493,\n",
       "       0.9973896 ])"
      ]
     },
     "execution_count": 27,
     "metadata": {},
     "output_type": "execute_result"
    }
   ],
   "source": [
    "# Probabilities\n",
    "probabilities = model_lr.predict_proba(tvec_test)[:,1]\n",
    "probabilities"
   ]
  },
  {
   "cell_type": "code",
   "execution_count": 28,
   "metadata": {},
   "outputs": [
    {
     "data": {
      "text/plain": [
       "0.9693701466781708"
      ]
     },
     "execution_count": 28,
     "metadata": {},
     "output_type": "execute_result"
    }
   ],
   "source": [
    "# Score\n",
    "model_lr.score(tvec_test, y_test)"
   ]
  },
  {
   "cell_type": "code",
   "execution_count": 29,
   "metadata": {},
   "outputs": [
    {
     "data": {
      "text/html": [
       "<div>\n",
       "<style scoped>\n",
       "    .dataframe tbody tr th:only-of-type {\n",
       "        vertical-align: middle;\n",
       "    }\n",
       "\n",
       "    .dataframe tbody tr th {\n",
       "        vertical-align: top;\n",
       "    }\n",
       "\n",
       "    .dataframe thead th {\n",
       "        text-align: right;\n",
       "    }\n",
       "</style>\n",
       "<table border=\"1\" class=\"dataframe\">\n",
       "  <thead>\n",
       "    <tr style=\"text-align: right;\">\n",
       "      <th></th>\n",
       "      <th>abstract</th>\n",
       "      <th>target</th>\n",
       "      <th>probabilities</th>\n",
       "      <th>predictions</th>\n",
       "    </tr>\n",
       "  </thead>\n",
       "  <tbody>\n",
       "    <tr>\n",
       "      <th>0</th>\n",
       "      <td>the national park service announces the availa...</td>\n",
       "      <td>True</td>\n",
       "      <td>0.853317</td>\n",
       "      <td>True</td>\n",
       "    </tr>\n",
       "    <tr>\n",
       "      <th>1</th>\n",
       "      <td>the small business administration sba is publi...</td>\n",
       "      <td>True</td>\n",
       "      <td>0.967653</td>\n",
       "      <td>True</td>\n",
       "    </tr>\n",
       "    <tr>\n",
       "      <th>2</th>\n",
       "      <td>notice is hereby given pursuant to the provisi...</td>\n",
       "      <td>True</td>\n",
       "      <td>0.921812</td>\n",
       "      <td>True</td>\n",
       "    </tr>\n",
       "    <tr>\n",
       "      <th>3</th>\n",
       "      <td>we the us fish and wildlife service service ha...</td>\n",
       "      <td>True</td>\n",
       "      <td>0.814373</td>\n",
       "      <td>True</td>\n",
       "    </tr>\n",
       "    <tr>\n",
       "      <th>4</th>\n",
       "      <td>this notice sets forth the schedule and propos...</td>\n",
       "      <td>True</td>\n",
       "      <td>0.887301</td>\n",
       "      <td>True</td>\n",
       "    </tr>\n",
       "  </tbody>\n",
       "</table>\n",
       "</div>"
      ],
      "text/plain": [
       "                                            abstract  target  probabilities  \\\n",
       "0  the national park service announces the availa...    True       0.853317   \n",
       "1  the small business administration sba is publi...    True       0.967653   \n",
       "2  notice is hereby given pursuant to the provisi...    True       0.921812   \n",
       "3  we the us fish and wildlife service service ha...    True       0.814373   \n",
       "4  this notice sets forth the schedule and propos...    True       0.887301   \n",
       "\n",
       "   predictions  \n",
       "0         True  \n",
       "1         True  \n",
       "2         True  \n",
       "3         True  \n",
       "4         True  "
      ]
     },
     "execution_count": 29,
     "metadata": {},
     "output_type": "execute_result"
    }
   ],
   "source": [
    "# Convert each component to a pandas dateframe\n",
    "df_probs=pd.DataFrame(probabilities, columns=['probabilities']).reset_index(drop=True)\n",
    "df_preds=pd.DataFrame(predictions, columns=['predictions']).reset_index(drop=True)\n",
    "df_Xtest=pd.DataFrame(X_test).reset_index(drop=True)\n",
    "df_ytest=pd.DataFrame(y_test).reset_index(drop=True)\n",
    "# Reset a new index because we removed all the training data but never reset the index, so it has gaps\n",
    "# and drop=True gets rid of the old index\n",
    "\n",
    "final=pd.concat([df_Xtest, df_ytest, df_probs, df_preds], axis=1)\n",
    "final.head()"
   ]
  },
  {
   "cell_type": "code",
   "execution_count": 30,
   "metadata": {},
   "outputs": [
    {
     "data": {
      "text/html": [
       "<div>\n",
       "<style scoped>\n",
       "    .dataframe tbody tr th:only-of-type {\n",
       "        vertical-align: middle;\n",
       "    }\n",
       "\n",
       "    .dataframe tbody tr th {\n",
       "        vertical-align: top;\n",
       "    }\n",
       "\n",
       "    .dataframe thead th {\n",
       "        text-align: right;\n",
       "    }\n",
       "</style>\n",
       "<table border=\"1\" class=\"dataframe\">\n",
       "  <thead>\n",
       "    <tr style=\"text-align: right;\">\n",
       "      <th></th>\n",
       "      <th>abstract</th>\n",
       "      <th>target</th>\n",
       "      <th>probabilities</th>\n",
       "      <th>predictions</th>\n",
       "    </tr>\n",
       "  </thead>\n",
       "  <tbody>\n",
       "    <tr>\n",
       "      <th>10</th>\n",
       "      <td>the coast guard has issued a temporary deviati...</td>\n",
       "      <td>False</td>\n",
       "      <td>0.087924</td>\n",
       "      <td>False</td>\n",
       "    </tr>\n",
       "    <tr>\n",
       "      <th>20</th>\n",
       "      <td>the environmental protection agency epa is tak...</td>\n",
       "      <td>False</td>\n",
       "      <td>0.050668</td>\n",
       "      <td>False</td>\n",
       "    </tr>\n",
       "    <tr>\n",
       "      <th>24</th>\n",
       "      <td>we propose to supersede airworthiness directiv...</td>\n",
       "      <td>False</td>\n",
       "      <td>0.078245</td>\n",
       "      <td>False</td>\n",
       "    </tr>\n",
       "    <tr>\n",
       "      <th>44</th>\n",
       "      <td>whenever a new or revised national ambient air...</td>\n",
       "      <td>False</td>\n",
       "      <td>0.088429</td>\n",
       "      <td>False</td>\n",
       "    </tr>\n",
       "    <tr>\n",
       "      <th>56</th>\n",
       "      <td>the coast guard has issued a temporary deviati...</td>\n",
       "      <td>False</td>\n",
       "      <td>0.070970</td>\n",
       "      <td>False</td>\n",
       "    </tr>\n",
       "  </tbody>\n",
       "</table>\n",
       "</div>"
      ],
      "text/plain": [
       "                                             abstract  target  probabilities  \\\n",
       "10  the coast guard has issued a temporary deviati...   False       0.087924   \n",
       "20  the environmental protection agency epa is tak...   False       0.050668   \n",
       "24  we propose to supersede airworthiness directiv...   False       0.078245   \n",
       "44  whenever a new or revised national ambient air...   False       0.088429   \n",
       "56  the coast guard has issued a temporary deviati...   False       0.070970   \n",
       "\n",
       "    predictions  \n",
       "10        False  \n",
       "20        False  \n",
       "24        False  \n",
       "44        False  \n",
       "56        False  "
      ]
     },
     "execution_count": 30,
     "metadata": {},
     "output_type": "execute_result"
    }
   ],
   "source": [
    "# Let's look at some that had high probability of being assigned to the target type=rule\n",
    "final[(final['probabilities']<0.1)].head(5)"
   ]
  },
  {
   "cell_type": "code",
   "execution_count": 31,
   "metadata": {},
   "outputs": [
    {
     "data": {
      "text/html": [
       "<div>\n",
       "<style scoped>\n",
       "    .dataframe tbody tr th:only-of-type {\n",
       "        vertical-align: middle;\n",
       "    }\n",
       "\n",
       "    .dataframe tbody tr th {\n",
       "        vertical-align: top;\n",
       "    }\n",
       "\n",
       "    .dataframe thead th {\n",
       "        text-align: right;\n",
       "    }\n",
       "</style>\n",
       "<table border=\"1\" class=\"dataframe\">\n",
       "  <thead>\n",
       "    <tr style=\"text-align: right;\">\n",
       "      <th></th>\n",
       "      <th>abstract</th>\n",
       "      <th>target</th>\n",
       "      <th>probabilities</th>\n",
       "      <th>predictions</th>\n",
       "    </tr>\n",
       "  </thead>\n",
       "  <tbody>\n",
       "    <tr>\n",
       "      <th>1</th>\n",
       "      <td>the small business administration sba is publi...</td>\n",
       "      <td>True</td>\n",
       "      <td>0.967653</td>\n",
       "      <td>True</td>\n",
       "    </tr>\n",
       "    <tr>\n",
       "      <th>2</th>\n",
       "      <td>notice is hereby given pursuant to the provisi...</td>\n",
       "      <td>True</td>\n",
       "      <td>0.921812</td>\n",
       "      <td>True</td>\n",
       "    </tr>\n",
       "    <tr>\n",
       "      <th>5</th>\n",
       "      <td>in accordance with the paperwork reduction act...</td>\n",
       "      <td>True</td>\n",
       "      <td>0.983302</td>\n",
       "      <td>True</td>\n",
       "    </tr>\n",
       "    <tr>\n",
       "      <th>7</th>\n",
       "      <td>the postal service gives notice of filing a re...</td>\n",
       "      <td>True</td>\n",
       "      <td>0.914373</td>\n",
       "      <td>True</td>\n",
       "    </tr>\n",
       "    <tr>\n",
       "      <th>8</th>\n",
       "      <td>in compliance with the paperwork reduction act...</td>\n",
       "      <td>True</td>\n",
       "      <td>0.992568</td>\n",
       "      <td>True</td>\n",
       "    </tr>\n",
       "  </tbody>\n",
       "</table>\n",
       "</div>"
      ],
      "text/plain": [
       "                                            abstract  target  probabilities  \\\n",
       "1  the small business administration sba is publi...    True       0.967653   \n",
       "2  notice is hereby given pursuant to the provisi...    True       0.921812   \n",
       "5  in accordance with the paperwork reduction act...    True       0.983302   \n",
       "7  the postal service gives notice of filing a re...    True       0.914373   \n",
       "8  in compliance with the paperwork reduction act...    True       0.992568   \n",
       "\n",
       "   predictions  \n",
       "1         True  \n",
       "2         True  \n",
       "5         True  \n",
       "7         True  \n",
       "8         True  "
      ]
     },
     "execution_count": 31,
     "metadata": {},
     "output_type": "execute_result"
    }
   ],
   "source": [
    "# Let's look at some that had high probability of NOT being assigned to the target agency\n",
    "final[(final['probabilities']>0.9)].head(5)"
   ]
  },
  {
   "cell_type": "code",
   "execution_count": 32,
   "metadata": {},
   "outputs": [
    {
     "data": {
      "text/html": [
       "<div>\n",
       "<style scoped>\n",
       "    .dataframe tbody tr th:only-of-type {\n",
       "        vertical-align: middle;\n",
       "    }\n",
       "\n",
       "    .dataframe tbody tr th {\n",
       "        vertical-align: top;\n",
       "    }\n",
       "\n",
       "    .dataframe thead th {\n",
       "        text-align: right;\n",
       "    }\n",
       "</style>\n",
       "<table border=\"1\" class=\"dataframe\">\n",
       "  <thead>\n",
       "    <tr style=\"text-align: right;\">\n",
       "      <th></th>\n",
       "      <th>abstract</th>\n",
       "      <th>target</th>\n",
       "      <th>probabilities</th>\n",
       "      <th>predictions</th>\n",
       "    </tr>\n",
       "  </thead>\n",
       "  <tbody>\n",
       "    <tr>\n",
       "      <th>0</th>\n",
       "      <td>the national park service announces the availa...</td>\n",
       "      <td>True</td>\n",
       "      <td>0.853317</td>\n",
       "      <td>True</td>\n",
       "    </tr>\n",
       "    <tr>\n",
       "      <th>1</th>\n",
       "      <td>the small business administration sba is publi...</td>\n",
       "      <td>True</td>\n",
       "      <td>0.967653</td>\n",
       "      <td>True</td>\n",
       "    </tr>\n",
       "    <tr>\n",
       "      <th>2</th>\n",
       "      <td>notice is hereby given pursuant to the provisi...</td>\n",
       "      <td>True</td>\n",
       "      <td>0.921812</td>\n",
       "      <td>True</td>\n",
       "    </tr>\n",
       "    <tr>\n",
       "      <th>3</th>\n",
       "      <td>we the us fish and wildlife service service ha...</td>\n",
       "      <td>True</td>\n",
       "      <td>0.814373</td>\n",
       "      <td>True</td>\n",
       "    </tr>\n",
       "    <tr>\n",
       "      <th>4</th>\n",
       "      <td>this notice sets forth the schedule and propos...</td>\n",
       "      <td>True</td>\n",
       "      <td>0.887301</td>\n",
       "      <td>True</td>\n",
       "    </tr>\n",
       "    <tr>\n",
       "      <th>5</th>\n",
       "      <td>in accordance with the paperwork reduction act...</td>\n",
       "      <td>True</td>\n",
       "      <td>0.983302</td>\n",
       "      <td>True</td>\n",
       "    </tr>\n",
       "    <tr>\n",
       "      <th>6</th>\n",
       "      <td>the food and drug administration fda or agency...</td>\n",
       "      <td>True</td>\n",
       "      <td>0.758976</td>\n",
       "      <td>True</td>\n",
       "    </tr>\n",
       "    <tr>\n",
       "      <th>7</th>\n",
       "      <td>the postal service gives notice of filing a re...</td>\n",
       "      <td>True</td>\n",
       "      <td>0.914373</td>\n",
       "      <td>True</td>\n",
       "    </tr>\n",
       "    <tr>\n",
       "      <th>8</th>\n",
       "      <td>in compliance with the paperwork reduction act...</td>\n",
       "      <td>True</td>\n",
       "      <td>0.992568</td>\n",
       "      <td>True</td>\n",
       "    </tr>\n",
       "    <tr>\n",
       "      <th>9</th>\n",
       "      <td>the department of commerce as part of its cont...</td>\n",
       "      <td>True</td>\n",
       "      <td>0.994737</td>\n",
       "      <td>True</td>\n",
       "    </tr>\n",
       "  </tbody>\n",
       "</table>\n",
       "</div>"
      ],
      "text/plain": [
       "                                            abstract  target  probabilities  \\\n",
       "0  the national park service announces the availa...    True       0.853317   \n",
       "1  the small business administration sba is publi...    True       0.967653   \n",
       "2  notice is hereby given pursuant to the provisi...    True       0.921812   \n",
       "3  we the us fish and wildlife service service ha...    True       0.814373   \n",
       "4  this notice sets forth the schedule and propos...    True       0.887301   \n",
       "5  in accordance with the paperwork reduction act...    True       0.983302   \n",
       "6  the food and drug administration fda or agency...    True       0.758976   \n",
       "7  the postal service gives notice of filing a re...    True       0.914373   \n",
       "8  in compliance with the paperwork reduction act...    True       0.992568   \n",
       "9  the department of commerce as part of its cont...    True       0.994737   \n",
       "\n",
       "   predictions  \n",
       "0         True  \n",
       "1         True  \n",
       "2         True  \n",
       "3         True  \n",
       "4         True  \n",
       "5         True  \n",
       "6         True  \n",
       "7         True  \n",
       "8         True  \n",
       "9         True  "
      ]
     },
     "execution_count": 32,
     "metadata": {},
     "output_type": "execute_result"
    }
   ],
   "source": [
    "# Let's look at some that had intermediate probability\n",
    "final[(final['probabilities']!=0.0) & (final['probabilities']!=1.0)].head(10)"
   ]
  },
  {
   "cell_type": "markdown",
   "metadata": {},
   "source": [
    "## Step 6: Evaluate Results\n",
    "<p>Nice summary of different formulas for accuracy, precision, recall, etc \n",
    "<a href=\"http://www.damienfrancois.be/blog/files/modelperfcheatsheet.pdf\">here</a></p>"
   ]
  },
  {
   "cell_type": "code",
   "execution_count": 33,
   "metadata": {},
   "outputs": [
    {
     "data": {
      "text/html": [
       "<div>\n",
       "<style scoped>\n",
       "    .dataframe tbody tr th:only-of-type {\n",
       "        vertical-align: middle;\n",
       "    }\n",
       "\n",
       "    .dataframe tbody tr th {\n",
       "        vertical-align: top;\n",
       "    }\n",
       "\n",
       "    .dataframe thead th {\n",
       "        text-align: right;\n",
       "    }\n",
       "</style>\n",
       "<table border=\"1\" class=\"dataframe\">\n",
       "  <thead>\n",
       "    <tr style=\"text-align: right;\">\n",
       "      <th></th>\n",
       "      <th>abstract</th>\n",
       "      <th>target</th>\n",
       "      <th>probabilities</th>\n",
       "      <th>predictions</th>\n",
       "    </tr>\n",
       "  </thead>\n",
       "  <tbody>\n",
       "    <tr>\n",
       "      <th>0</th>\n",
       "      <td>the national park service announces the availa...</td>\n",
       "      <td>True</td>\n",
       "      <td>0.853317</td>\n",
       "      <td>True</td>\n",
       "    </tr>\n",
       "    <tr>\n",
       "      <th>1</th>\n",
       "      <td>the small business administration sba is publi...</td>\n",
       "      <td>True</td>\n",
       "      <td>0.967653</td>\n",
       "      <td>True</td>\n",
       "    </tr>\n",
       "    <tr>\n",
       "      <th>2</th>\n",
       "      <td>notice is hereby given pursuant to the provisi...</td>\n",
       "      <td>True</td>\n",
       "      <td>0.921812</td>\n",
       "      <td>True</td>\n",
       "    </tr>\n",
       "    <tr>\n",
       "      <th>3</th>\n",
       "      <td>we the us fish and wildlife service service ha...</td>\n",
       "      <td>True</td>\n",
       "      <td>0.814373</td>\n",
       "      <td>True</td>\n",
       "    </tr>\n",
       "    <tr>\n",
       "      <th>4</th>\n",
       "      <td>this notice sets forth the schedule and propos...</td>\n",
       "      <td>True</td>\n",
       "      <td>0.887301</td>\n",
       "      <td>True</td>\n",
       "    </tr>\n",
       "  </tbody>\n",
       "</table>\n",
       "</div>"
      ],
      "text/plain": [
       "                                            abstract  target  probabilities  \\\n",
       "0  the national park service announces the availa...    True       0.853317   \n",
       "1  the small business administration sba is publi...    True       0.967653   \n",
       "2  notice is hereby given pursuant to the provisi...    True       0.921812   \n",
       "3  we the us fish and wildlife service service ha...    True       0.814373   \n",
       "4  this notice sets forth the schedule and propos...    True       0.887301   \n",
       "\n",
       "   predictions  \n",
       "0         True  \n",
       "1         True  \n",
       "2         True  \n",
       "3         True  \n",
       "4         True  "
      ]
     },
     "execution_count": 33,
     "metadata": {},
     "output_type": "execute_result"
    }
   ],
   "source": [
    "#Write out results\n",
    "final.head()"
   ]
  },
  {
   "cell_type": "code",
   "execution_count": 34,
   "metadata": {},
   "outputs": [
    {
     "name": "stdout",
     "output_type": "stream",
     "text": [
      "Results\n",
      "True Positives\tTrue_Negatives\tFalse_Positives\\False_Negatives\n",
      "\n",
      "1717\t530\t63\t8\n",
      "Classifier Accuracy: 0.9693701466781708\n",
      "\n",
      "Classifier Error Rate: 0.030629853321829163\n",
      "\n"
     ]
    }
   ],
   "source": [
    "#Now let's see how well this model did, true positives, false positives, etc\n",
    "def accuracy(tp, tn, fp, fn):\n",
    "    return ((tp + tn)/(tp + tn + fp + fn))\n",
    "\n",
    "def error_rate(tp, tn, fp, fn):\n",
    "    return ((fp + fn)/ (tp + tn + fp + fn))\n",
    "\n",
    "true_positives = len(final.loc[(final['target'] == True) & (final['predictions'] == True)])\n",
    "false_positives = len(final.loc[(final['target'] == False) & (final['predictions'] == True)])\n",
    "true_negatives = len(final.loc[(final['target'] == False) & (final['predictions'] == False)])\n",
    "false_negatives = len(final.loc[(final['target'] == True) & (final['predictions'] == False)])\n",
    "print(\"Results\\nTrue Positives\\tTrue_Negatives\\tFalse_Positives\\False_Negatives\\n\")\n",
    "print(\"\\t\".join(map(str, [true_positives, true_negatives, false_positives, false_negatives])))\n",
    "\n",
    "print(\"Classifier Accuracy: {}\\n\".format(accuracy(true_positives, true_negatives, \n",
    "                                                  false_positives, false_negatives)))\n",
    "print(\"Classifier Error Rate: {}\\n\".format(error_rate(true_positives, true_negatives,\n",
    "                                                      false_positives, false_negatives)))\n"
   ]
  },
  {
   "cell_type": "markdown",
   "metadata": {},
   "source": [
    "### Pickle my results for use in dashboard"
   ]
  },
  {
   "cell_type": "code",
   "execution_count": 35,
   "metadata": {},
   "outputs": [
    {
     "name": "stdout",
     "output_type": "stream",
     "text": [
      "Accuracy score for your classifier: 0.969\n",
      "\n",
      "Error rate for your classifier: 0.031\n",
      "\n"
     ]
    }
   ],
   "source": [
    "#First get the predicted class label for each document\n",
    "predictions = model_lr.predict(tvec_test)\n",
    "print(\"Accuracy score for your classifier: {:.3f}\\n\".format(model_lr.score(tvec_test, y_test)))\n",
    "print(\"Error rate for your classifier: {:.3f}\\n\".format(1-model_lr.score(tvec_test, y_test)))\n",
    "classifierStats = dict()\n",
    "classifierStats['accuracy'] = model_lr.score(tvec_test, y_test)\n",
    "classifierStats['errorRate'] = (1 - model_lr.score(tvec_test, y_test))"
   ]
  },
  {
   "cell_type": "code",
   "execution_count": 36,
   "metadata": {},
   "outputs": [
    {
     "data": {
      "text/plain": [
       "array([0.14668349, 0.85331651])"
      ]
     },
     "execution_count": 36,
     "metadata": {},
     "output_type": "execute_result"
    }
   ],
   "source": [
    "#Also store the predicted class probabilities\n",
    "predictProbabilities = model_lr.predict_proba(tvec_test)\n",
    "predictProbabilities[0]"
   ]
  },
  {
   "cell_type": "code",
   "execution_count": 37,
   "metadata": {},
   "outputs": [],
   "source": [
    "def truth_value(myRow):\n",
    "    if (myRow['ground_truth'] == True and myRow['predicted_value'] == True):\n",
    "        return 'truePositive'\n",
    "    elif (myRow['ground_truth'] == True and myRow['predicted_value'] == False):\n",
    "        return 'falseNegative'\n",
    "    elif (myRow['ground_truth'] == False and myRow['predicted_value'] == True):\n",
    "        return 'falsePositive'\n",
    "    elif (myRow['ground_truth'] == False and myRow['predicted_value'] == False):\n",
    "        return 'trueNegative'\n",
    "    else:\n",
    "        return None"
   ]
  },
  {
   "cell_type": "code",
   "execution_count": 38,
   "metadata": {},
   "outputs": [
    {
     "name": "stdout",
     "output_type": "stream",
     "text": [
      "2318\n",
      "2318\n"
     ]
    }
   ],
   "source": [
    "print(len(y_test))\n",
    "print(len(predictions))"
   ]
  },
  {
   "cell_type": "code",
   "execution_count": 39,
   "metadata": {},
   "outputs": [
    {
     "data": {
      "text/plain": [
       "3129    True\n",
       "8639    True\n",
       "2818    True\n",
       "3816    True\n",
       "1929    True\n",
       "Name: target, dtype: bool"
      ]
     },
     "execution_count": 39,
     "metadata": {},
     "output_type": "execute_result"
    }
   ],
   "source": [
    "y_test.head()"
   ]
  },
  {
   "cell_type": "code",
   "execution_count": 40,
   "metadata": {},
   "outputs": [
    {
     "name": "stdout",
     "output_type": "stream",
     "text": [
      "<class 'numpy.ndarray'>\n",
      "<class 'pandas.core.series.Series'>\n"
     ]
    }
   ],
   "source": [
    "print(type(predictions))\n",
    "print(type(y_test))"
   ]
  },
  {
   "cell_type": "code",
   "execution_count": 41,
   "metadata": {},
   "outputs": [],
   "source": [
    "y_test_array=y_test.values"
   ]
  },
  {
   "cell_type": "code",
   "execution_count": 42,
   "metadata": {},
   "outputs": [
    {
     "name": "stdout",
     "output_type": "stream",
     "text": [
      "<class 'numpy.ndarray'>\n",
      "<class 'numpy.ndarray'>\n"
     ]
    }
   ],
   "source": [
    "print(type(predictions))\n",
    "print(type(y_test_array))"
   ]
  },
  {
   "cell_type": "code",
   "execution_count": 43,
   "metadata": {},
   "outputs": [],
   "source": [
    "# Define the results dataset\n",
    "results = [(y_test_array[i], predictions[i]) for i in range(0,len(predictions))]"
   ]
  },
  {
   "cell_type": "code",
   "execution_count": 44,
   "metadata": {},
   "outputs": [
    {
     "data": {
      "text/plain": [
       "array([ True,  True,  True, ...,  True,  True,  True])"
      ]
     },
     "execution_count": 44,
     "metadata": {},
     "output_type": "execute_result"
    }
   ],
   "source": [
    "y_test_array"
   ]
  },
  {
   "cell_type": "code",
   "execution_count": 45,
   "metadata": {},
   "outputs": [],
   "source": [
    "#Add in the email id, subject, and body, then truePos, falsePos, trueNeg, falseNeg, posProbability, negProbability\n",
    "enrichedResults = pd.DataFrame.from_records(results, \n",
    "    columns = ['ground_truth', 'predicted_value'])"
   ]
  },
  {
   "cell_type": "code",
   "execution_count": 46,
   "metadata": {},
   "outputs": [
    {
     "data": {
      "text/html": [
       "<div>\n",
       "<style scoped>\n",
       "    .dataframe tbody tr th:only-of-type {\n",
       "        vertical-align: middle;\n",
       "    }\n",
       "\n",
       "    .dataframe tbody tr th {\n",
       "        vertical-align: top;\n",
       "    }\n",
       "\n",
       "    .dataframe thead th {\n",
       "        text-align: right;\n",
       "    }\n",
       "</style>\n",
       "<table border=\"1\" class=\"dataframe\">\n",
       "  <thead>\n",
       "    <tr style=\"text-align: right;\">\n",
       "      <th></th>\n",
       "      <th>ground_truth</th>\n",
       "      <th>predicted_value</th>\n",
       "    </tr>\n",
       "  </thead>\n",
       "  <tbody>\n",
       "    <tr>\n",
       "      <th>0</th>\n",
       "      <td>True</td>\n",
       "      <td>True</td>\n",
       "    </tr>\n",
       "    <tr>\n",
       "      <th>1</th>\n",
       "      <td>True</td>\n",
       "      <td>True</td>\n",
       "    </tr>\n",
       "    <tr>\n",
       "      <th>2</th>\n",
       "      <td>True</td>\n",
       "      <td>True</td>\n",
       "    </tr>\n",
       "    <tr>\n",
       "      <th>3</th>\n",
       "      <td>True</td>\n",
       "      <td>True</td>\n",
       "    </tr>\n",
       "    <tr>\n",
       "      <th>4</th>\n",
       "      <td>True</td>\n",
       "      <td>True</td>\n",
       "    </tr>\n",
       "  </tbody>\n",
       "</table>\n",
       "</div>"
      ],
      "text/plain": [
       "   ground_truth  predicted_value\n",
       "0          True             True\n",
       "1          True             True\n",
       "2          True             True\n",
       "3          True             True\n",
       "4          True             True"
      ]
     },
     "execution_count": 46,
     "metadata": {},
     "output_type": "execute_result"
    }
   ],
   "source": [
    "enrichedResults.head()"
   ]
  },
  {
   "cell_type": "code",
   "execution_count": 47,
   "metadata": {},
   "outputs": [
    {
     "data": {
      "text/html": [
       "<div>\n",
       "<style scoped>\n",
       "    .dataframe tbody tr th:only-of-type {\n",
       "        vertical-align: middle;\n",
       "    }\n",
       "\n",
       "    .dataframe tbody tr th {\n",
       "        vertical-align: top;\n",
       "    }\n",
       "\n",
       "    .dataframe thead th {\n",
       "        text-align: right;\n",
       "    }\n",
       "</style>\n",
       "<table border=\"1\" class=\"dataframe\">\n",
       "  <thead>\n",
       "    <tr style=\"text-align: right;\">\n",
       "      <th></th>\n",
       "      <th>ground_truth</th>\n",
       "      <th>predicted_value</th>\n",
       "      <th>truthValue</th>\n",
       "    </tr>\n",
       "  </thead>\n",
       "  <tbody>\n",
       "    <tr>\n",
       "      <th>0</th>\n",
       "      <td>True</td>\n",
       "      <td>True</td>\n",
       "      <td>truePositive</td>\n",
       "    </tr>\n",
       "    <tr>\n",
       "      <th>1</th>\n",
       "      <td>True</td>\n",
       "      <td>True</td>\n",
       "      <td>truePositive</td>\n",
       "    </tr>\n",
       "    <tr>\n",
       "      <th>2</th>\n",
       "      <td>True</td>\n",
       "      <td>True</td>\n",
       "      <td>truePositive</td>\n",
       "    </tr>\n",
       "    <tr>\n",
       "      <th>3</th>\n",
       "      <td>True</td>\n",
       "      <td>True</td>\n",
       "      <td>truePositive</td>\n",
       "    </tr>\n",
       "    <tr>\n",
       "      <th>4</th>\n",
       "      <td>True</td>\n",
       "      <td>True</td>\n",
       "      <td>truePositive</td>\n",
       "    </tr>\n",
       "  </tbody>\n",
       "</table>\n",
       "</div>"
      ],
      "text/plain": [
       "   ground_truth  predicted_value    truthValue\n",
       "0          True             True  truePositive\n",
       "1          True             True  truePositive\n",
       "2          True             True  truePositive\n",
       "3          True             True  truePositive\n",
       "4          True             True  truePositive"
      ]
     },
     "execution_count": 47,
     "metadata": {},
     "output_type": "execute_result"
    }
   ],
   "source": [
    "enrichedResults['truthValue'] = enrichedResults.apply(lambda row: truth_value(row), axis=1)\n",
    "enrichedResults.head()"
   ]
  },
  {
   "cell_type": "code",
   "execution_count": 48,
   "metadata": {},
   "outputs": [
    {
     "data": {
      "text/html": [
       "<div>\n",
       "<style scoped>\n",
       "    .dataframe tbody tr th:only-of-type {\n",
       "        vertical-align: middle;\n",
       "    }\n",
       "\n",
       "    .dataframe tbody tr th {\n",
       "        vertical-align: top;\n",
       "    }\n",
       "\n",
       "    .dataframe thead th {\n",
       "        text-align: right;\n",
       "    }\n",
       "</style>\n",
       "<table border=\"1\" class=\"dataframe\">\n",
       "  <thead>\n",
       "    <tr style=\"text-align: right;\">\n",
       "      <th></th>\n",
       "      <th>ground_truth</th>\n",
       "      <th>predicted_value</th>\n",
       "      <th>truthValue</th>\n",
       "      <th>abstract</th>\n",
       "      <th>posProbability</th>\n",
       "      <th>negProbability</th>\n",
       "    </tr>\n",
       "  </thead>\n",
       "  <tbody>\n",
       "    <tr>\n",
       "      <th>0</th>\n",
       "      <td>True</td>\n",
       "      <td>True</td>\n",
       "      <td>truePositive</td>\n",
       "      <td>the national park service announces the availa...</td>\n",
       "      <td>0.853317</td>\n",
       "      <td>0.146683</td>\n",
       "    </tr>\n",
       "    <tr>\n",
       "      <th>1</th>\n",
       "      <td>True</td>\n",
       "      <td>True</td>\n",
       "      <td>truePositive</td>\n",
       "      <td>the small business administration sba is publi...</td>\n",
       "      <td>0.967653</td>\n",
       "      <td>0.032347</td>\n",
       "    </tr>\n",
       "    <tr>\n",
       "      <th>2</th>\n",
       "      <td>True</td>\n",
       "      <td>True</td>\n",
       "      <td>truePositive</td>\n",
       "      <td>notice is hereby given pursuant to the provisi...</td>\n",
       "      <td>0.921812</td>\n",
       "      <td>0.078188</td>\n",
       "    </tr>\n",
       "    <tr>\n",
       "      <th>3</th>\n",
       "      <td>True</td>\n",
       "      <td>True</td>\n",
       "      <td>truePositive</td>\n",
       "      <td>we the us fish and wildlife service service ha...</td>\n",
       "      <td>0.814373</td>\n",
       "      <td>0.185627</td>\n",
       "    </tr>\n",
       "    <tr>\n",
       "      <th>4</th>\n",
       "      <td>True</td>\n",
       "      <td>True</td>\n",
       "      <td>truePositive</td>\n",
       "      <td>this notice sets forth the schedule and propos...</td>\n",
       "      <td>0.887301</td>\n",
       "      <td>0.112699</td>\n",
       "    </tr>\n",
       "  </tbody>\n",
       "</table>\n",
       "</div>"
      ],
      "text/plain": [
       "   ground_truth  predicted_value    truthValue  \\\n",
       "0          True             True  truePositive   \n",
       "1          True             True  truePositive   \n",
       "2          True             True  truePositive   \n",
       "3          True             True  truePositive   \n",
       "4          True             True  truePositive   \n",
       "\n",
       "                                            abstract  posProbability  \\\n",
       "0  the national park service announces the availa...        0.853317   \n",
       "1  the small business administration sba is publi...        0.967653   \n",
       "2  notice is hereby given pursuant to the provisi...        0.921812   \n",
       "3  we the us fish and wildlife service service ha...        0.814373   \n",
       "4  this notice sets forth the schedule and propos...        0.887301   \n",
       "\n",
       "   negProbability  \n",
       "0        0.146683  \n",
       "1        0.032347  \n",
       "2        0.078188  \n",
       "3        0.185627  \n",
       "4        0.112699  "
      ]
     },
     "execution_count": 48,
     "metadata": {},
     "output_type": "execute_result"
    }
   ],
   "source": [
    "enrichedResults['abstract'] = X_test.tolist()\n",
    "enrichedResults['posProbability'] = [prob[1] for prob in predictProbabilities]\n",
    "enrichedResults['negProbability'] = [prob[0] for prob in predictProbabilities]\n",
    "enrichedResults.head()"
   ]
  },
  {
   "cell_type": "code",
   "execution_count": 49,
   "metadata": {},
   "outputs": [],
   "source": [
    "counts = enrichedResults['truthValue'].value_counts()\n",
    "for i in range(0,len(counts)):\n",
    "    classifierStats[counts.index[i]] = counts[i]\n",
    "with open('classifierStats.pyc', 'wb') as f:\n",
    "    pickle.dump(classifierStats, f)\n",
    "f.close()\n",
    "with open('classifierTestResults.pyc', 'wb') as f1:\n",
    "    pickle.dump(enrichedResults, f1)\n",
    "f1.close()"
   ]
  },
  {
   "cell_type": "markdown",
   "metadata": {},
   "source": [
    "### Evaluate NB using metrics module"
   ]
  },
  {
   "cell_type": "code",
   "execution_count": 50,
   "metadata": {},
   "outputs": [
    {
     "name": "stdout",
     "output_type": "stream",
     "text": [
      "             precision    recall  f1-score   support\n",
      "\n",
      "      False       0.99      0.89      0.94       593\n",
      "       True       0.96      1.00      0.98      1725\n",
      "\n",
      "avg / total       0.97      0.97      0.97      2318\n",
      "\n"
     ]
    }
   ],
   "source": [
    "from sklearn import metrics\n",
    "print(metrics.classification_report(y_test, predictions))"
   ]
  },
  {
   "cell_type": "code",
   "execution_count": 51,
   "metadata": {},
   "outputs": [
    {
     "name": "stdout",
     "output_type": "stream",
     "text": [
      "94.45614292347923\n"
     ]
    }
   ],
   "source": [
    "# Our ROC-AUC score measures the trade-off between specificity and sensitivity\n",
    "from sklearn.metrics import roc_auc_score\n",
    "roc_score=100*roc_auc_score(y_test, predictions)\n",
    "print(roc_score)"
   ]
  },
  {
   "cell_type": "markdown",
   "metadata": {},
   "source": [
    "### Which features are most informative?"
   ]
  },
  {
   "cell_type": "code",
   "execution_count": 52,
   "metadata": {},
   "outputs": [],
   "source": [
    "# Create a dataframe of the features by importance\n",
    "importance=pd.DataFrame(sorted(zip(model_lr.coef_[0], feature_names)), columns=['modelCoef', 'term'])\n",
    "# Remember, the target is defined as df['type'] == 'Notice' rather than 'Rule'"
   ]
  },
  {
   "cell_type": "code",
   "execution_count": 53,
   "metadata": {},
   "outputs": [
    {
     "data": {
      "text/html": [
       "<div>\n",
       "<style scoped>\n",
       "    .dataframe tbody tr th:only-of-type {\n",
       "        vertical-align: middle;\n",
       "    }\n",
       "\n",
       "    .dataframe tbody tr th {\n",
       "        vertical-align: top;\n",
       "    }\n",
       "\n",
       "    .dataframe thead th {\n",
       "        text-align: right;\n",
       "    }\n",
       "</style>\n",
       "<table border=\"1\" class=\"dataframe\">\n",
       "  <thead>\n",
       "    <tr style=\"text-align: right;\">\n",
       "      <th></th>\n",
       "      <th>modelCoef</th>\n",
       "      <th>term</th>\n",
       "    </tr>\n",
       "  </thead>\n",
       "  <tbody>\n",
       "    <tr>\n",
       "      <th>0</th>\n",
       "      <td>-7.214758</td>\n",
       "      <td>rule</td>\n",
       "    </tr>\n",
       "    <tr>\n",
       "      <th>1</th>\n",
       "      <td>-4.052617</td>\n",
       "      <td>regulations</td>\n",
       "    </tr>\n",
       "    <tr>\n",
       "      <th>2</th>\n",
       "      <td>-3.278812</td>\n",
       "      <td>regulation</td>\n",
       "    </tr>\n",
       "    <tr>\n",
       "      <th>3</th>\n",
       "      <td>-2.926108</td>\n",
       "      <td>action</td>\n",
       "    </tr>\n",
       "    <tr>\n",
       "      <th>4</th>\n",
       "      <td>-2.911245</td>\n",
       "      <td>rulemaking</td>\n",
       "    </tr>\n",
       "  </tbody>\n",
       "</table>\n",
       "</div>"
      ],
      "text/plain": [
       "   modelCoef         term\n",
       "0  -7.214758         rule\n",
       "1  -4.052617  regulations\n",
       "2  -3.278812   regulation\n",
       "3  -2.926108       action\n",
       "4  -2.911245   rulemaking"
      ]
     },
     "execution_count": 53,
     "metadata": {},
     "output_type": "execute_result"
    }
   ],
   "source": [
    "importance.head()"
   ]
  },
  {
   "cell_type": "code",
   "execution_count": 57,
   "metadata": {},
   "outputs": [
    {
     "data": {
      "text/html": [
       "<div>\n",
       "<style scoped>\n",
       "    .dataframe tbody tr th:only-of-type {\n",
       "        vertical-align: middle;\n",
       "    }\n",
       "\n",
       "    .dataframe tbody tr th {\n",
       "        vertical-align: top;\n",
       "    }\n",
       "\n",
       "    .dataframe thead th {\n",
       "        text-align: right;\n",
       "    }\n",
       "</style>\n",
       "<table border=\"1\" class=\"dataframe\">\n",
       "  <thead>\n",
       "    <tr style=\"text-align: right;\">\n",
       "      <th></th>\n",
       "      <th>modelCoef</th>\n",
       "      <th>term</th>\n",
       "    </tr>\n",
       "  </thead>\n",
       "  <tbody>\n",
       "    <tr>\n",
       "      <th>0</th>\n",
       "      <td>-7.214758</td>\n",
       "      <td>rule</td>\n",
       "    </tr>\n",
       "    <tr>\n",
       "      <th>1</th>\n",
       "      <td>-4.052617</td>\n",
       "      <td>regulations</td>\n",
       "    </tr>\n",
       "    <tr>\n",
       "      <th>2</th>\n",
       "      <td>-3.278812</td>\n",
       "      <td>regulation</td>\n",
       "    </tr>\n",
       "    <tr>\n",
       "      <th>3</th>\n",
       "      <td>-2.926108</td>\n",
       "      <td>action</td>\n",
       "    </tr>\n",
       "    <tr>\n",
       "      <th>4</th>\n",
       "      <td>-2.911245</td>\n",
       "      <td>rulemaking</td>\n",
       "    </tr>\n",
       "  </tbody>\n",
       "</table>\n",
       "</div>"
      ],
      "text/plain": [
       "   modelCoef         term\n",
       "0  -7.214758         rule\n",
       "1  -4.052617  regulations\n",
       "2  -3.278812   regulation\n",
       "3  -2.926108       action\n",
       "4  -2.911245   rulemaking"
      ]
     },
     "execution_count": 57,
     "metadata": {},
     "output_type": "execute_result"
    }
   ],
   "source": [
    "# Features most associated with target=False\n",
    "high5=pd.DataFrame(importance.head(5))\n",
    "low5=pd.DataFrame(importance.tail(5))\n",
    "top10=pd.concat([high5, low5], ignore_index=True)\n",
    "top10.head()"
   ]
  },
  {
   "cell_type": "code",
   "execution_count": 54,
   "metadata": {},
   "outputs": [
    {
     "data": {
      "text/html": [
       "<div>\n",
       "<style scoped>\n",
       "    .dataframe tbody tr th:only-of-type {\n",
       "        vertical-align: middle;\n",
       "    }\n",
       "\n",
       "    .dataframe tbody tr th {\n",
       "        vertical-align: top;\n",
       "    }\n",
       "\n",
       "    .dataframe thead th {\n",
       "        text-align: right;\n",
       "    }\n",
       "</style>\n",
       "<table border=\"1\" class=\"dataframe\">\n",
       "  <thead>\n",
       "    <tr style=\"text-align: right;\">\n",
       "      <th></th>\n",
       "      <th>modelCoef</th>\n",
       "      <th>term</th>\n",
       "    </tr>\n",
       "  </thead>\n",
       "  <tbody>\n",
       "    <tr>\n",
       "      <th>0</th>\n",
       "      <td>-7.214758</td>\n",
       "      <td>rule</td>\n",
       "    </tr>\n",
       "    <tr>\n",
       "      <th>1</th>\n",
       "      <td>-4.052617</td>\n",
       "      <td>regulations</td>\n",
       "    </tr>\n",
       "    <tr>\n",
       "      <th>2</th>\n",
       "      <td>-3.278812</td>\n",
       "      <td>regulation</td>\n",
       "    </tr>\n",
       "    <tr>\n",
       "      <th>3</th>\n",
       "      <td>-2.926108</td>\n",
       "      <td>action</td>\n",
       "    </tr>\n",
       "    <tr>\n",
       "      <th>4</th>\n",
       "      <td>-2.911245</td>\n",
       "      <td>rulemaking</td>\n",
       "    </tr>\n",
       "  </tbody>\n",
       "</table>\n",
       "</div>"
      ],
      "text/plain": [
       "   modelCoef         term\n",
       "0  -7.214758         rule\n",
       "1  -4.052617  regulations\n",
       "2  -3.278812   regulation\n",
       "3  -2.926108       action\n",
       "4  -2.911245   rulemaking"
      ]
     },
     "execution_count": 54,
     "metadata": {},
     "output_type": "execute_result"
    }
   ],
   "source": [
    "# Features most associated with target=False\n",
    "high50=pd.DataFrame(importance.head(50))\n",
    "low50=pd.DataFrame(importance.tail(50))\n",
    "top100=pd.concat([high50, low50], ignore_index=True)\n",
    "top100.head()"
   ]
  },
  {
   "cell_type": "code",
   "execution_count": 62,
   "metadata": {},
   "outputs": [],
   "source": [
    "top100.to_csv('termScores.csv', index=False)"
   ]
  },
  {
   "cell_type": "code",
   "execution_count": 58,
   "metadata": {},
   "outputs": [
    {
     "data": {
      "text/plain": [
       "Text(0,0.5,'Coefficient')"
      ]
     },
     "execution_count": 58,
     "metadata": {},
     "output_type": "execute_result"
    },
    {
     "data": {
      "image/png": "[encoded data removed]",
      "text/plain": [
       "<matplotlib.figure.Figure at 0x1f4902adb70>"
      ]
     },
     "metadata": {},
     "output_type": "display_data"
    }
   ],
   "source": [
    "import matplotlib.pyplot as plt\n",
    "%matplotlib inline\n",
    "import seaborn as sns\n",
    "sns.set(style=\"whitegrid\", color_codes=True)\n",
    "ax = top10.set_index('term').plot(kind='bar', legend=False, fontsize=18, figsize=(15, 7))\n",
    "plt.title('Features with greatest predictive power',  fontsize=19)\n",
    "\n",
    "plt.xticks(rotation = 45,  fontsize=18)\n",
    "plt.xlabel('Features least or most associated with target', fontsize=18)\n",
    "plt.yticks(rotation = 0,  fontsize=18)\n",
    "plt.ylabel('Coefficient', rotation=90,  fontsize=18)"
   ]
  },
  {
   "cell_type": "code",
   "execution_count": null,
   "metadata": {},
   "outputs": [],
   "source": []
  }
 ],
 "metadata": {
  "kernelspec": {
   "display_name": "Python 3",
   "language": "python",
   "name": "python3"
  },
  "language_info": {
   "codemirror_mode": {
    "name": "ipython",
    "version": 3
   },
   "file_extension": ".py",
   "mimetype": "text/x-python",
   "name": "python",
   "nbconvert_exporter": "python",
   "pygments_lexer": "ipython3",
   "version": "3.6.4"
  }
 },
 "nbformat": 4,
 "nbformat_minor": 2
}
